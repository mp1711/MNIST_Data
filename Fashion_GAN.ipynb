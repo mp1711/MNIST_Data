{
  "cells": [
    {
      "cell_type": "code",
      "execution_count": null,
      "id": "06f4389a-52f8-43e6-a23d-2993f10f3b0e",
      "metadata": {
        "id": "06f4389a-52f8-43e6-a23d-2993f10f3b0e"
      },
      "outputs": [],
      "source": [
        "import tensorflow as tf\n",
        "\n",
        "gpus = tf.config.experimental.list_physical_devices('GPU')\n",
        "for gpu in gpus :\n",
        "    tf.config.experimental.set_memory_growth(gpu, True)"
      ]
    },
    {
      "cell_type": "code",
      "execution_count": null,
      "id": "7da035eb-0322-4858-9fec-6494f075b887",
      "metadata": {
        "id": "7da035eb-0322-4858-9fec-6494f075b887"
      },
      "outputs": [],
      "source": [
        "import tensorflow_datasets as tfds\n",
        "import matplotlib.pyplot as plt"
      ]
    },
    {
      "cell_type": "code",
      "execution_count": null,
      "id": "7de3822e-ad00-40f7-b224-1436484019d7",
      "metadata": {
        "id": "7de3822e-ad00-40f7-b224-1436484019d7"
      },
      "outputs": [],
      "source": [
        "ds = tfds.load('fashion_mnist', split = 'train')"
      ]
    },
    {
      "cell_type": "code",
      "execution_count": null,
      "id": "21bd707c-f8c9-44be-93c4-66f657432d11",
      "metadata": {
        "id": "21bd707c-f8c9-44be-93c4-66f657432d11"
      },
      "outputs": [],
      "source": [
        "import numpy as np\n"
      ]
    },
    {
      "cell_type": "code",
      "execution_count": null,
      "id": "3e210f63-916b-4b9d-8687-19159188c2d8",
      "metadata": {
        "id": "3e210f63-916b-4b9d-8687-19159188c2d8"
      },
      "outputs": [],
      "source": [
        "dataiterator = ds.as_numpy_iterator()\n"
      ]
    },
    {
      "cell_type": "code",
      "execution_count": null,
      "id": "1a68cde2-b7a2-4c33-ba92-947af909c463",
      "metadata": {
        "colab": {
          "base_uri": "https://localhost:8080/"
        },
        "id": "1a68cde2-b7a2-4c33-ba92-947af909c463",
        "outputId": "fb2d6312-20be-4d91-f6e1-9e419b99007e",
        "scrolled": true
      },
      "outputs": [
        {
          "output_type": "execute_result",
          "data": {
            "text/plain": [
              "{'image': array([[[  0],\n",
              "         [  0],\n",
              "         [  0],\n",
              "         [  0],\n",
              "         [  0],\n",
              "         [  0],\n",
              "         [  0],\n",
              "         [  0],\n",
              "         [  0],\n",
              "         [ 18],\n",
              "         [ 77],\n",
              "         [227],\n",
              "         [227],\n",
              "         [208],\n",
              "         [210],\n",
              "         [225],\n",
              "         [216],\n",
              "         [ 85],\n",
              "         [ 32],\n",
              "         [  0],\n",
              "         [  0],\n",
              "         [  0],\n",
              "         [  0],\n",
              "         [  0],\n",
              "         [  0],\n",
              "         [  0],\n",
              "         [  0],\n",
              "         [  0]],\n",
              " \n",
              "        [[  0],\n",
              "         [  0],\n",
              "         [  0],\n",
              "         [  0],\n",
              "         [  0],\n",
              "         [  0],\n",
              "         [  0],\n",
              "         [ 61],\n",
              "         [100],\n",
              "         [ 97],\n",
              "         [ 80],\n",
              "         [ 57],\n",
              "         [117],\n",
              "         [227],\n",
              "         [238],\n",
              "         [115],\n",
              "         [ 49],\n",
              "         [ 78],\n",
              "         [106],\n",
              "         [108],\n",
              "         [ 71],\n",
              "         [  0],\n",
              "         [  0],\n",
              "         [  0],\n",
              "         [  0],\n",
              "         [  0],\n",
              "         [  0],\n",
              "         [  0]],\n",
              " \n",
              "        [[  0],\n",
              "         [  0],\n",
              "         [  0],\n",
              "         [  0],\n",
              "         [  0],\n",
              "         [  0],\n",
              "         [ 81],\n",
              "         [105],\n",
              "         [ 80],\n",
              "         [ 69],\n",
              "         [ 72],\n",
              "         [ 64],\n",
              "         [ 44],\n",
              "         [ 21],\n",
              "         [ 13],\n",
              "         [ 44],\n",
              "         [ 69],\n",
              "         [ 75],\n",
              "         [ 75],\n",
              "         [ 80],\n",
              "         [114],\n",
              "         [ 80],\n",
              "         [  0],\n",
              "         [  0],\n",
              "         [  0],\n",
              "         [  0],\n",
              "         [  0],\n",
              "         [  0]],\n",
              " \n",
              "        [[  0],\n",
              "         [  0],\n",
              "         [  0],\n",
              "         [  0],\n",
              "         [  0],\n",
              "         [ 26],\n",
              "         [ 92],\n",
              "         [ 69],\n",
              "         [ 68],\n",
              "         [ 75],\n",
              "         [ 75],\n",
              "         [ 71],\n",
              "         [ 74],\n",
              "         [ 83],\n",
              "         [ 75],\n",
              "         [ 77],\n",
              "         [ 78],\n",
              "         [ 74],\n",
              "         [ 74],\n",
              "         [ 83],\n",
              "         [ 77],\n",
              "         [108],\n",
              "         [ 34],\n",
              "         [  0],\n",
              "         [  0],\n",
              "         [  0],\n",
              "         [  0],\n",
              "         [  0]],\n",
              " \n",
              "        [[  0],\n",
              "         [  0],\n",
              "         [  0],\n",
              "         [  0],\n",
              "         [  0],\n",
              "         [ 55],\n",
              "         [ 92],\n",
              "         [ 69],\n",
              "         [ 74],\n",
              "         [ 74],\n",
              "         [ 71],\n",
              "         [ 71],\n",
              "         [ 77],\n",
              "         [ 69],\n",
              "         [ 66],\n",
              "         [ 75],\n",
              "         [ 74],\n",
              "         [ 77],\n",
              "         [ 80],\n",
              "         [ 80],\n",
              "         [ 78],\n",
              "         [ 94],\n",
              "         [ 63],\n",
              "         [  0],\n",
              "         [  0],\n",
              "         [  0],\n",
              "         [  0],\n",
              "         [  0]],\n",
              " \n",
              "        [[  0],\n",
              "         [  0],\n",
              "         [  0],\n",
              "         [  0],\n",
              "         [  0],\n",
              "         [ 63],\n",
              "         [ 95],\n",
              "         [ 66],\n",
              "         [ 68],\n",
              "         [ 72],\n",
              "         [ 72],\n",
              "         [ 69],\n",
              "         [ 72],\n",
              "         [ 74],\n",
              "         [ 74],\n",
              "         [ 74],\n",
              "         [ 75],\n",
              "         [ 75],\n",
              "         [ 77],\n",
              "         [ 80],\n",
              "         [ 77],\n",
              "         [106],\n",
              "         [ 61],\n",
              "         [  0],\n",
              "         [  0],\n",
              "         [  0],\n",
              "         [  0],\n",
              "         [  0]],\n",
              " \n",
              "        [[  0],\n",
              "         [  0],\n",
              "         [  0],\n",
              "         [  0],\n",
              "         [  0],\n",
              "         [ 80],\n",
              "         [108],\n",
              "         [ 71],\n",
              "         [ 69],\n",
              "         [ 72],\n",
              "         [ 71],\n",
              "         [ 69],\n",
              "         [ 72],\n",
              "         [ 75],\n",
              "         [ 75],\n",
              "         [ 72],\n",
              "         [ 72],\n",
              "         [ 75],\n",
              "         [ 78],\n",
              "         [ 72],\n",
              "         [ 85],\n",
              "         [128],\n",
              "         [ 64],\n",
              "         [  0],\n",
              "         [  0],\n",
              "         [  0],\n",
              "         [  0],\n",
              "         [  0]],\n",
              " \n",
              "        [[  0],\n",
              "         [  0],\n",
              "         [  0],\n",
              "         [  0],\n",
              "         [  0],\n",
              "         [ 88],\n",
              "         [120],\n",
              "         [ 75],\n",
              "         [ 74],\n",
              "         [ 77],\n",
              "         [ 75],\n",
              "         [ 72],\n",
              "         [ 77],\n",
              "         [ 74],\n",
              "         [ 74],\n",
              "         [ 77],\n",
              "         [ 78],\n",
              "         [ 83],\n",
              "         [ 83],\n",
              "         [ 66],\n",
              "         [111],\n",
              "         [123],\n",
              "         [ 78],\n",
              "         [  0],\n",
              "         [  0],\n",
              "         [  0],\n",
              "         [  0],\n",
              "         [  0]],\n",
              " \n",
              "        [[  0],\n",
              "         [  0],\n",
              "         [  0],\n",
              "         [  0],\n",
              "         [  0],\n",
              "         [ 85],\n",
              "         [134],\n",
              "         [ 74],\n",
              "         [ 85],\n",
              "         [ 69],\n",
              "         [ 75],\n",
              "         [ 75],\n",
              "         [ 74],\n",
              "         [ 75],\n",
              "         [ 74],\n",
              "         [ 75],\n",
              "         [ 75],\n",
              "         [ 81],\n",
              "         [ 75],\n",
              "         [ 61],\n",
              "         [151],\n",
              "         [115],\n",
              "         [ 91],\n",
              "         [ 12],\n",
              "         [  0],\n",
              "         [  0],\n",
              "         [  0],\n",
              "         [  0]],\n",
              " \n",
              "        [[  0],\n",
              "         [  0],\n",
              "         [  0],\n",
              "         [  0],\n",
              "         [ 10],\n",
              "         [ 85],\n",
              "         [153],\n",
              "         [ 83],\n",
              "         [ 80],\n",
              "         [ 68],\n",
              "         [ 77],\n",
              "         [ 75],\n",
              "         [ 74],\n",
              "         [ 75],\n",
              "         [ 74],\n",
              "         [ 75],\n",
              "         [ 77],\n",
              "         [ 80],\n",
              "         [ 68],\n",
              "         [ 61],\n",
              "         [162],\n",
              "         [122],\n",
              "         [ 78],\n",
              "         [  6],\n",
              "         [  0],\n",
              "         [  0],\n",
              "         [  0],\n",
              "         [  0]],\n",
              " \n",
              "        [[  0],\n",
              "         [  0],\n",
              "         [  0],\n",
              "         [  0],\n",
              "         [ 30],\n",
              "         [ 75],\n",
              "         [154],\n",
              "         [ 85],\n",
              "         [ 80],\n",
              "         [ 71],\n",
              "         [ 80],\n",
              "         [ 72],\n",
              "         [ 77],\n",
              "         [ 75],\n",
              "         [ 75],\n",
              "         [ 77],\n",
              "         [ 78],\n",
              "         [ 77],\n",
              "         [ 75],\n",
              "         [ 49],\n",
              "         [191],\n",
              "         [132],\n",
              "         [ 72],\n",
              "         [ 15],\n",
              "         [  0],\n",
              "         [  0],\n",
              "         [  0],\n",
              "         [  0]],\n",
              " \n",
              "        [[  0],\n",
              "         [  0],\n",
              "         [  0],\n",
              "         [  0],\n",
              "         [ 58],\n",
              "         [ 66],\n",
              "         [174],\n",
              "         [115],\n",
              "         [ 66],\n",
              "         [ 77],\n",
              "         [ 80],\n",
              "         [ 72],\n",
              "         [ 78],\n",
              "         [ 75],\n",
              "         [ 77],\n",
              "         [ 78],\n",
              "         [ 78],\n",
              "         [ 77],\n",
              "         [ 66],\n",
              "         [ 49],\n",
              "         [222],\n",
              "         [131],\n",
              "         [ 77],\n",
              "         [ 37],\n",
              "         [  0],\n",
              "         [  0],\n",
              "         [  0],\n",
              "         [  0]],\n",
              " \n",
              "        [[  0],\n",
              "         [  0],\n",
              "         [  0],\n",
              "         [  0],\n",
              "         [ 69],\n",
              "         [ 55],\n",
              "         [179],\n",
              "         [139],\n",
              "         [ 55],\n",
              "         [ 92],\n",
              "         [ 74],\n",
              "         [ 74],\n",
              "         [ 78],\n",
              "         [ 74],\n",
              "         [ 78],\n",
              "         [ 77],\n",
              "         [ 75],\n",
              "         [ 80],\n",
              "         [ 64],\n",
              "         [ 55],\n",
              "         [242],\n",
              "         [111],\n",
              "         [ 95],\n",
              "         [ 44],\n",
              "         [  0],\n",
              "         [  0],\n",
              "         [  0],\n",
              "         [  0]],\n",
              " \n",
              "        [[  0],\n",
              "         [  0],\n",
              "         [  0],\n",
              "         [  0],\n",
              "         [ 74],\n",
              "         [ 57],\n",
              "         [159],\n",
              "         [180],\n",
              "         [ 55],\n",
              "         [ 92],\n",
              "         [ 64],\n",
              "         [ 72],\n",
              "         [ 74],\n",
              "         [ 74],\n",
              "         [ 77],\n",
              "         [ 75],\n",
              "         [ 77],\n",
              "         [ 78],\n",
              "         [ 55],\n",
              "         [ 66],\n",
              "         [255],\n",
              "         [ 97],\n",
              "         [108],\n",
              "         [ 49],\n",
              "         [  0],\n",
              "         [  0],\n",
              "         [  0],\n",
              "         [  0]],\n",
              " \n",
              "        [[  0],\n",
              "         [  0],\n",
              "         [  0],\n",
              "         [  0],\n",
              "         [ 74],\n",
              "         [ 66],\n",
              "         [145],\n",
              "         [153],\n",
              "         [ 72],\n",
              "         [ 83],\n",
              "         [ 58],\n",
              "         [ 78],\n",
              "         [ 77],\n",
              "         [ 75],\n",
              "         [ 75],\n",
              "         [ 75],\n",
              "         [ 72],\n",
              "         [ 80],\n",
              "         [ 30],\n",
              "         [132],\n",
              "         [255],\n",
              "         [ 37],\n",
              "         [122],\n",
              "         [ 60],\n",
              "         [  0],\n",
              "         [  0],\n",
              "         [  0],\n",
              "         [  0]],\n",
              " \n",
              "        [[  0],\n",
              "         [  0],\n",
              "         [  0],\n",
              "         [  0],\n",
              "         [ 80],\n",
              "         [ 69],\n",
              "         [142],\n",
              "         [180],\n",
              "         [142],\n",
              "         [ 57],\n",
              "         [ 64],\n",
              "         [ 78],\n",
              "         [ 74],\n",
              "         [ 75],\n",
              "         [ 75],\n",
              "         [ 75],\n",
              "         [ 72],\n",
              "         [ 85],\n",
              "         [ 21],\n",
              "         [185],\n",
              "         [227],\n",
              "         [ 37],\n",
              "         [143],\n",
              "         [ 63],\n",
              "         [  0],\n",
              "         [  0],\n",
              "         [  0],\n",
              "         [  0]],\n",
              " \n",
              "        [[  0],\n",
              "         [  0],\n",
              "         [  0],\n",
              "         [  0],\n",
              "         [ 83],\n",
              "         [ 71],\n",
              "         [136],\n",
              "         [194],\n",
              "         [126],\n",
              "         [ 46],\n",
              "         [ 69],\n",
              "         [ 75],\n",
              "         [ 72],\n",
              "         [ 75],\n",
              "         [ 75],\n",
              "         [ 75],\n",
              "         [ 74],\n",
              "         [ 78],\n",
              "         [ 38],\n",
              "         [139],\n",
              "         [185],\n",
              "         [ 60],\n",
              "         [151],\n",
              "         [ 58],\n",
              "         [  0],\n",
              "         [  0],\n",
              "         [  0],\n",
              "         [  0]],\n",
              " \n",
              "        [[  0],\n",
              "         [  0],\n",
              "         [  0],\n",
              "         [  4],\n",
              "         [ 81],\n",
              "         [ 74],\n",
              "         [145],\n",
              "         [177],\n",
              "         [ 78],\n",
              "         [ 49],\n",
              "         [ 74],\n",
              "         [ 77],\n",
              "         [ 75],\n",
              "         [ 75],\n",
              "         [ 75],\n",
              "         [ 75],\n",
              "         [ 74],\n",
              "         [ 72],\n",
              "         [ 63],\n",
              "         [ 80],\n",
              "         [156],\n",
              "         [117],\n",
              "         [153],\n",
              "         [ 55],\n",
              "         [  0],\n",
              "         [  0],\n",
              "         [  0],\n",
              "         [  0]],\n",
              " \n",
              "        [[  0],\n",
              "         [  0],\n",
              "         [  0],\n",
              "         [ 10],\n",
              "         [ 80],\n",
              "         [ 72],\n",
              "         [157],\n",
              "         [163],\n",
              "         [ 61],\n",
              "         [ 55],\n",
              "         [ 75],\n",
              "         [ 77],\n",
              "         [ 75],\n",
              "         [ 77],\n",
              "         [ 75],\n",
              "         [ 75],\n",
              "         [ 75],\n",
              "         [ 77],\n",
              "         [ 71],\n",
              "         [ 60],\n",
              "         [ 98],\n",
              "         [156],\n",
              "         [132],\n",
              "         [ 58],\n",
              "         [  0],\n",
              "         [  0],\n",
              "         [  0],\n",
              "         [  0]],\n",
              " \n",
              "        [[  0],\n",
              "         [  0],\n",
              "         [  0],\n",
              "         [ 13],\n",
              "         [ 77],\n",
              "         [ 74],\n",
              "         [157],\n",
              "         [143],\n",
              "         [ 43],\n",
              "         [ 61],\n",
              "         [ 72],\n",
              "         [ 75],\n",
              "         [ 77],\n",
              "         [ 75],\n",
              "         [ 74],\n",
              "         [ 77],\n",
              "         [ 77],\n",
              "         [ 75],\n",
              "         [ 71],\n",
              "         [ 58],\n",
              "         [ 80],\n",
              "         [157],\n",
              "         [120],\n",
              "         [ 66],\n",
              "         [  0],\n",
              "         [  0],\n",
              "         [  0],\n",
              "         [  0]],\n",
              " \n",
              "        [[  0],\n",
              "         [  0],\n",
              "         [  0],\n",
              "         [ 18],\n",
              "         [ 81],\n",
              "         [ 74],\n",
              "         [156],\n",
              "         [114],\n",
              "         [ 35],\n",
              "         [ 72],\n",
              "         [ 71],\n",
              "         [ 75],\n",
              "         [ 78],\n",
              "         [ 72],\n",
              "         [ 66],\n",
              "         [ 80],\n",
              "         [ 78],\n",
              "         [ 77],\n",
              "         [ 75],\n",
              "         [ 64],\n",
              "         [ 63],\n",
              "         [165],\n",
              "         [119],\n",
              "         [ 68],\n",
              "         [  0],\n",
              "         [  0],\n",
              "         [  0],\n",
              "         [  0]],\n",
              " \n",
              "        [[  0],\n",
              "         [  0],\n",
              "         [  0],\n",
              "         [ 23],\n",
              "         [ 85],\n",
              "         [ 81],\n",
              "         [177],\n",
              "         [ 57],\n",
              "         [ 52],\n",
              "         [ 77],\n",
              "         [ 71],\n",
              "         [ 78],\n",
              "         [ 80],\n",
              "         [ 72],\n",
              "         [ 75],\n",
              "         [ 74],\n",
              "         [ 77],\n",
              "         [ 77],\n",
              "         [ 75],\n",
              "         [ 64],\n",
              "         [ 37],\n",
              "         [173],\n",
              "         [ 95],\n",
              "         [ 72],\n",
              "         [  0],\n",
              "         [  0],\n",
              "         [  0],\n",
              "         [  0]],\n",
              " \n",
              "        [[  0],\n",
              "         [  0],\n",
              "         [  0],\n",
              "         [ 26],\n",
              "         [ 81],\n",
              "         [ 86],\n",
              "         [160],\n",
              "         [ 20],\n",
              "         [ 75],\n",
              "         [ 77],\n",
              "         [ 77],\n",
              "         [ 80],\n",
              "         [ 78],\n",
              "         [ 80],\n",
              "         [ 89],\n",
              "         [ 78],\n",
              "         [ 81],\n",
              "         [ 83],\n",
              "         [ 80],\n",
              "         [ 74],\n",
              "         [ 20],\n",
              "         [177],\n",
              "         [ 77],\n",
              "         [ 74],\n",
              "         [  0],\n",
              "         [  0],\n",
              "         [  0],\n",
              "         [  0]],\n",
              " \n",
              "        [[  0],\n",
              "         [  0],\n",
              "         [  0],\n",
              "         [ 49],\n",
              "         [ 77],\n",
              "         [ 91],\n",
              "         [200],\n",
              "         [  0],\n",
              "         [ 83],\n",
              "         [ 95],\n",
              "         [ 86],\n",
              "         [ 88],\n",
              "         [ 88],\n",
              "         [ 89],\n",
              "         [ 88],\n",
              "         [ 89],\n",
              "         [ 88],\n",
              "         [ 83],\n",
              "         [ 89],\n",
              "         [ 86],\n",
              "         [  0],\n",
              "         [191],\n",
              "         [ 78],\n",
              "         [ 80],\n",
              "         [ 24],\n",
              "         [  0],\n",
              "         [  0],\n",
              "         [  0]],\n",
              " \n",
              "        [[  0],\n",
              "         [  0],\n",
              "         [  0],\n",
              "         [ 54],\n",
              "         [ 71],\n",
              "         [108],\n",
              "         [165],\n",
              "         [  0],\n",
              "         [ 24],\n",
              "         [ 57],\n",
              "         [ 52],\n",
              "         [ 57],\n",
              "         [ 60],\n",
              "         [ 60],\n",
              "         [ 60],\n",
              "         [ 63],\n",
              "         [ 63],\n",
              "         [ 77],\n",
              "         [ 89],\n",
              "         [ 52],\n",
              "         [  0],\n",
              "         [211],\n",
              "         [ 97],\n",
              "         [ 77],\n",
              "         [ 61],\n",
              "         [  0],\n",
              "         [  0],\n",
              "         [  0]],\n",
              " \n",
              "        [[  0],\n",
              "         [  0],\n",
              "         [  0],\n",
              "         [ 68],\n",
              "         [ 91],\n",
              "         [117],\n",
              "         [137],\n",
              "         [  0],\n",
              "         [  0],\n",
              "         [  0],\n",
              "         [  0],\n",
              "         [  0],\n",
              "         [  0],\n",
              "         [  0],\n",
              "         [  0],\n",
              "         [  0],\n",
              "         [  0],\n",
              "         [  0],\n",
              "         [  0],\n",
              "         [  0],\n",
              "         [ 18],\n",
              "         [216],\n",
              "         [ 94],\n",
              "         [ 97],\n",
              "         [ 57],\n",
              "         [  0],\n",
              "         [  0],\n",
              "         [  0]],\n",
              " \n",
              "        [[  0],\n",
              "         [  0],\n",
              "         [  0],\n",
              "         [ 54],\n",
              "         [115],\n",
              "         [105],\n",
              "         [185],\n",
              "         [  0],\n",
              "         [  0],\n",
              "         [  1],\n",
              "         [  0],\n",
              "         [  0],\n",
              "         [  0],\n",
              "         [  0],\n",
              "         [  0],\n",
              "         [  0],\n",
              "         [  0],\n",
              "         [  0],\n",
              "         [  0],\n",
              "         [  0],\n",
              "         [  0],\n",
              "         [153],\n",
              "         [ 78],\n",
              "         [106],\n",
              "         [ 37],\n",
              "         [  0],\n",
              "         [  0],\n",
              "         [  0]],\n",
              " \n",
              "        [[  0],\n",
              "         [  0],\n",
              "         [  0],\n",
              "         [ 18],\n",
              "         [ 61],\n",
              "         [ 41],\n",
              "         [103],\n",
              "         [  0],\n",
              "         [  0],\n",
              "         [  0],\n",
              "         [  0],\n",
              "         [  0],\n",
              "         [  0],\n",
              "         [  0],\n",
              "         [  0],\n",
              "         [  0],\n",
              "         [  0],\n",
              "         [  0],\n",
              "         [  0],\n",
              "         [  0],\n",
              "         [  0],\n",
              "         [106],\n",
              "         [ 47],\n",
              "         [ 69],\n",
              "         [ 23],\n",
              "         [  0],\n",
              "         [  0],\n",
              "         [  0]]], dtype=uint8),\n",
              " 'label': 2}"
            ]
          },
          "metadata": {},
          "execution_count": 98
        }
      ],
      "source": [
        "dataiterator.next()"
      ]
    },
    {
      "cell_type": "code",
      "execution_count": null,
      "id": "e0e26c41-a8ad-46ff-bb0d-b2b60e01a10c",
      "metadata": {
        "colab": {
          "base_uri": "https://localhost:8080/",
          "height": 309
        },
        "id": "e0e26c41-a8ad-46ff-bb0d-b2b60e01a10c",
        "outputId": "038bf09d-0579-4794-ec2e-39562dc14b06"
      },
      "outputs": [
        {
          "output_type": "display_data",
          "data": {
            "text/plain": [
              "<Figure size 2000x2000 with 4 Axes>"
            ],
            "image/png": "[encoded data removed]"
          },
          "metadata": {}
        }
      ],
      "source": [
        "fig, ax = plt.subplots(ncols = 4, figsize = (20, 20))\n",
        "\n",
        "for idx in range(4) :\n",
        "    batch = dataiterator.next()\n",
        "    ax[idx].imshow(np.squeeze(batch['image']))\n",
        "    ax[idx].title.set_text(batch['label'])"
      ]
    },
    {
      "cell_type": "code",
      "execution_count": null,
      "id": "8566c764-d127-4bde-9d54-100fae0d45a8",
      "metadata": {
        "id": "8566c764-d127-4bde-9d54-100fae0d45a8"
      },
      "outputs": [],
      "source": [
        "def preprocess_images(data) :\n",
        "    image = data['image']\n",
        "    image = tf.cast(image, tf.float32)/255\n",
        "    return image/255.0"
      ]
    },
    {
      "cell_type": "code",
      "execution_count": null,
      "id": "5e4d14f8-b86d-4c26-a54d-81c176fb4959",
      "metadata": {
        "id": "5e4d14f8-b86d-4c26-a54d-81c176fb4959"
      },
      "outputs": [],
      "source": [
        "ds = tfds.load('fashion_mnist', split = 'train')\n",
        "ds = ds.map(preprocess_images)\n",
        "ds = ds.cache()\n",
        "ds = ds.shuffle(60000)\n",
        "ds = ds.batch(128)\n",
        "ds = ds.prefetch(64)\n"
      ]
    },
    {
      "cell_type": "code",
      "execution_count": null,
      "id": "8815ce4b-270f-40b1-8273-8f41e301ce97",
      "metadata": {
        "colab": {
          "base_uri": "https://localhost:8080/"
        },
        "id": "8815ce4b-270f-40b1-8273-8f41e301ce97",
        "outputId": "97aeee48-7999-40b9-fb8f-720724bd9478"
      },
      "outputs": [
        {
          "output_type": "execute_result",
          "data": {
            "text/plain": [
              "<_PrefetchDataset element_spec=TensorSpec(shape=(None, 28, 28, 1), dtype=tf.float32, name=None)>"
            ]
          },
          "metadata": {},
          "execution_count": 102
        }
      ],
      "source": [
        "ds"
      ]
    },
    {
      "cell_type": "code",
      "execution_count": null,
      "id": "2ec8eac7-c73e-4605-9cf1-5d2ed6f25712",
      "metadata": {
        "id": "2ec8eac7-c73e-4605-9cf1-5d2ed6f25712"
      },
      "outputs": [],
      "source": [
        "#Models\n",
        "\n",
        "from keras.models import Sequential\n",
        "from keras.layers import Conv2D, MaxPool2D, Dense, Flatten, Reshape, LeakyReLU, Dropout, UpSampling2D"
      ]
    },
    {
      "cell_type": "code",
      "execution_count": null,
      "id": "6a9f1ac5-d8c9-410f-b361-a501a1617ecb",
      "metadata": {
        "id": "6a9f1ac5-d8c9-410f-b361-a501a1617ecb"
      },
      "outputs": [],
      "source": [
        "def build_generator() :\n",
        "    model = Sequential()\n",
        "\n",
        "    model.add(Dense(7*7*128, input_dim = 128))\n",
        "    model.add(LeakyReLU(0.2))\n",
        "    model.add(Reshape((7,7,128)))\n",
        "\n",
        "    model.add(UpSampling2D())\n",
        "    model.add(Conv2D(128, 5, padding = 'same'))\n",
        "    model.add(LeakyReLU(0.2))\n",
        "\n",
        "    model.add(UpSampling2D())\n",
        "    model.add(Conv2D(128, 5, padding = 'same'))\n",
        "    model.add(LeakyReLU(0.2))\n",
        "\n",
        "    model.add(Conv2D(128, 4, padding = 'same'))\n",
        "    model.add(LeakyReLU(0.2))\n",
        "\n",
        "    model.add(Conv2D(128, 4, padding = 'same'))\n",
        "    model.add(LeakyReLU(0.2))\n",
        "\n",
        "    model.add(Conv2D(1, 4,padding = 'same', activation = 'sigmoid'))\n",
        "\n",
        "    return model"
      ]
    },
    {
      "cell_type": "code",
      "execution_count": null,
      "id": "7e8ba27b-7c8d-41a5-9733-85d9827e16fd",
      "metadata": {
        "colab": {
          "base_uri": "https://localhost:8080/"
        },
        "id": "7e8ba27b-7c8d-41a5-9733-85d9827e16fd",
        "outputId": "02077d25-92ee-481a-f81e-da87c922ed45",
        "scrolled": true
      },
      "outputs": [
        {
          "output_type": "stream",
          "name": "stdout",
          "text": [
            "Model: \"sequential_5\"\n",
            "_________________________________________________________________\n",
            " Layer (type)                Output Shape              Param #   \n",
            "=================================================================\n",
            " dense_5 (Dense)             (None, 6272)              809088    \n",
            "                                                                 \n",
            " leaky_re_lu_23 (LeakyReLU)  (None, 6272)              0         \n",
            "                                                                 \n",
            " reshape_3 (Reshape)         (None, 7, 7, 128)         0         \n",
            "                                                                 \n",
            " up_sampling2d_6 (UpSamplin  (None, 14, 14, 128)       0         \n",
            " g2D)                                                            \n",
            "                                                                 \n",
            " conv2d_23 (Conv2D)          (None, 14, 14, 128)       409728    \n",
            "                                                                 \n",
            " leaky_re_lu_24 (LeakyReLU)  (None, 14, 14, 128)       0         \n",
            "                                                                 \n",
            " up_sampling2d_7 (UpSamplin  (None, 28, 28, 128)       0         \n",
            " g2D)                                                            \n",
            "                                                                 \n",
            " conv2d_24 (Conv2D)          (None, 28, 28, 128)       409728    \n",
            "                                                                 \n",
            " leaky_re_lu_25 (LeakyReLU)  (None, 28, 28, 128)       0         \n",
            "                                                                 \n",
            " conv2d_25 (Conv2D)          (None, 28, 28, 128)       262272    \n",
            "                                                                 \n",
            " leaky_re_lu_26 (LeakyReLU)  (None, 28, 28, 128)       0         \n",
            "                                                                 \n",
            " conv2d_26 (Conv2D)          (None, 28, 28, 128)       262272    \n",
            "                                                                 \n",
            " leaky_re_lu_27 (LeakyReLU)  (None, 28, 28, 128)       0         \n",
            "                                                                 \n",
            " conv2d_27 (Conv2D)          (None, 28, 28, 1)         2049      \n",
            "                                                                 \n",
            "=================================================================\n",
            "Total params: 2155137 (8.22 MB)\n",
            "Trainable params: 2155137 (8.22 MB)\n",
            "Non-trainable params: 0 (0.00 Byte)\n",
            "_________________________________________________________________\n"
          ]
        }
      ],
      "source": [
        "generator = build_generator()\n",
        "generator.summary()"
      ]
    },
    {
      "cell_type": "code",
      "execution_count": null,
      "id": "6b5a169c-4bd6-4222-9711-1c461c1e5d74",
      "metadata": {
        "colab": {
          "base_uri": "https://localhost:8080/"
        },
        "id": "6b5a169c-4bd6-4222-9711-1c461c1e5d74",
        "outputId": "c4be60c3-79ba-4458-d1e5-1b3b2a0fdf59"
      },
      "outputs": [
        {
          "output_type": "stream",
          "name": "stderr",
          "text": [
            "WARNING:tensorflow:5 out of the last 7 calls to <function Model.make_predict_function.<locals>.predict_function at 0x7db857156680> triggered tf.function retracing. Tracing is expensive and the excessive number of tracings could be due to (1) creating @tf.function repeatedly in a loop, (2) passing tensors with different shapes, (3) passing Python objects instead of tensors. For (1), please define your @tf.function outside of the loop. For (2), @tf.function has reduce_retracing=True option that can avoid unnecessary retracing. For (3), please refer to https://www.tensorflow.org/guide/function#controlling_retracing and https://www.tensorflow.org/api_docs/python/tf/function for  more details.\n"
          ]
        },
        {
          "output_type": "stream",
          "name": "stdout",
          "text": [
            "1/1 [==============================] - 0s 221ms/step\n"
          ]
        },
        {
          "output_type": "execute_result",
          "data": {
            "text/plain": [
              "(4, 28, 28, 1)"
            ]
          },
          "metadata": {},
          "execution_count": 106
        }
      ],
      "source": [
        "img = generator.predict(np.random.randn(4,128))\n",
        "img.shape"
      ]
    },
    {
      "cell_type": "code",
      "execution_count": null,
      "id": "b3d75c61-c3f3-439e-9c18-73b4a23d5b6f",
      "metadata": {
        "colab": {
          "base_uri": "https://localhost:8080/",
          "height": 309
        },
        "id": "b3d75c61-c3f3-439e-9c18-73b4a23d5b6f",
        "outputId": "d6d69650-540f-4169-ccc8-7e91d9e777d1"
      },
      "outputs": [
        {
          "output_type": "display_data",
          "data": {
            "text/plain": [
              "<Figure size 2000x2000 with 4 Axes>"
            ],
            "image/png": "[encoded data removed]"
          },
          "metadata": {}
        }
      ],
      "source": [
        "fig, ax = plt.subplots(ncols = 4, figsize = (20, 20))\n",
        "\n",
        "for idx, img in enumerate(img) :\n",
        "\n",
        "    ax[idx].imshow(np.squeeze(img))\n",
        "    ax[idx].title.set_text(idx)"
      ]
    },
    {
      "cell_type": "code",
      "execution_count": null,
      "id": "bc260bce-cf1e-4e16-ac3c-45707a9b0246",
      "metadata": {
        "id": "bc260bce-cf1e-4e16-ac3c-45707a9b0246"
      },
      "outputs": [],
      "source": [
        "def build_discriminator():\n",
        "    model = Sequential()\n",
        "\n",
        "    model.add(Conv2D(32, 5, input_shape = (28,28,1)))\n",
        "    model.add(LeakyReLU(0.2))\n",
        "    model.add(Dropout(0.4))\n",
        "\n",
        "    model.add(Conv2D(64, 5))\n",
        "    model.add(LeakyReLU(0.2))\n",
        "    model.add(Dropout(0.4))\n",
        "\n",
        "    model.add(Conv2D(128, 5))\n",
        "    model.add(LeakyReLU(0.2))\n",
        "    model.add(Dropout(0.4))\n",
        "\n",
        "    model.add(Conv2D(256, 5))\n",
        "    model.add(LeakyReLU(0.2))\n",
        "    model.add(Dropout(0.4))\n",
        "\n",
        "    model.add(Flatten())\n",
        "    model.add(Dropout(0.4))\n",
        "    model.add(Dense(1, activation='sigmoid'))\n",
        "\n",
        "    return model"
      ]
    },
    {
      "cell_type": "code",
      "execution_count": null,
      "id": "nIT2UPy9z60z",
      "metadata": {
        "colab": {
          "base_uri": "https://localhost:8080/"
        },
        "id": "nIT2UPy9z60z",
        "outputId": "717e03f7-274f-4d0e-a161-e665b491f507"
      },
      "outputs": [
        {
          "output_type": "stream",
          "name": "stdout",
          "text": [
            "Model: \"sequential_6\"\n",
            "_________________________________________________________________\n",
            " Layer (type)                Output Shape              Param #   \n",
            "=================================================================\n",
            " conv2d_28 (Conv2D)          (None, 24, 24, 32)        832       \n",
            "                                                                 \n",
            " leaky_re_lu_28 (LeakyReLU)  (None, 24, 24, 32)        0         \n",
            "                                                                 \n",
            " dropout_10 (Dropout)        (None, 24, 24, 32)        0         \n",
            "                                                                 \n",
            " conv2d_29 (Conv2D)          (None, 20, 20, 64)        51264     \n",
            "                                                                 \n",
            " leaky_re_lu_29 (LeakyReLU)  (None, 20, 20, 64)        0         \n",
            "                                                                 \n",
            " dropout_11 (Dropout)        (None, 20, 20, 64)        0         \n",
            "                                                                 \n",
            " conv2d_30 (Conv2D)          (None, 16, 16, 128)       204928    \n",
            "                                                                 \n",
            " leaky_re_lu_30 (LeakyReLU)  (None, 16, 16, 128)       0         \n",
            "                                                                 \n",
            " dropout_12 (Dropout)        (None, 16, 16, 128)       0         \n",
            "                                                                 \n",
            " conv2d_31 (Conv2D)          (None, 12, 12, 256)       819456    \n",
            "                                                                 \n",
            " leaky_re_lu_31 (LeakyReLU)  (None, 12, 12, 256)       0         \n",
            "                                                                 \n",
            " dropout_13 (Dropout)        (None, 12, 12, 256)       0         \n",
            "                                                                 \n",
            " flatten_2 (Flatten)         (None, 36864)             0         \n",
            "                                                                 \n",
            " dropout_14 (Dropout)        (None, 36864)             0         \n",
            "                                                                 \n",
            " dense_6 (Dense)             (None, 1)                 36865     \n",
            "                                                                 \n",
            "=================================================================\n",
            "Total params: 1113345 (4.25 MB)\n",
            "Trainable params: 1113345 (4.25 MB)\n",
            "Non-trainable params: 0 (0.00 Byte)\n",
            "_________________________________________________________________\n"
          ]
        }
      ],
      "source": [
        "discriminator = build_discriminator()\n",
        "discriminator.summary()"
      ]
    },
    {
      "cell_type": "code",
      "execution_count": null,
      "id": "qzzjHRmCz9Fi",
      "metadata": {
        "colab": {
          "base_uri": "https://localhost:8080/"
        },
        "id": "qzzjHRmCz9Fi",
        "outputId": "5fee9028-9237-4cdb-f204-958722354d09"
      },
      "outputs": [
        {
          "output_type": "stream",
          "name": "stdout",
          "text": [
            "1/1 [==============================] - 0s 225ms/step\n"
          ]
        },
        {
          "output_type": "stream",
          "name": "stderr",
          "text": [
            "WARNING:tensorflow:6 out of the last 9 calls to <function Model.make_predict_function.<locals>.predict_function at 0x7db856dddcf0> triggered tf.function retracing. Tracing is expensive and the excessive number of tracings could be due to (1) creating @tf.function repeatedly in a loop, (2) passing tensors with different shapes, (3) passing Python objects instead of tensors. For (1), please define your @tf.function outside of the loop. For (2), @tf.function has reduce_retracing=True option that can avoid unnecessary retracing. For (3), please refer to https://www.tensorflow.org/guide/function#controlling_retracing and https://www.tensorflow.org/api_docs/python/tf/function for  more details.\n"
          ]
        },
        {
          "output_type": "stream",
          "name": "stdout",
          "text": [
            "1/1 [==============================] - 0s 176ms/step\n"
          ]
        },
        {
          "output_type": "execute_result",
          "data": {
            "text/plain": [
              "array([[0.50064164],\n",
              "       [0.500718  ],\n",
              "       [0.5007375 ],\n",
              "       [0.50051355]], dtype=float32)"
            ]
          },
          "metadata": {},
          "execution_count": 110
        }
      ],
      "source": [
        "img = generator.predict(np.random.randn(4,128))\n",
        "discriminator.predict(img)\n"
      ]
    },
    {
      "cell_type": "code",
      "execution_count": null,
      "id": "EAlUKPb60BjK",
      "metadata": {
        "id": "EAlUKPb60BjK"
      },
      "outputs": [],
      "source": [
        "from tensorflow.keras.optimizers import Adam\n",
        "from tensorflow.keras.losses import BinaryCrossentropy\n"
      ]
    },
    {
      "cell_type": "code",
      "execution_count": null,
      "id": "cqJcCqfMF2-D",
      "metadata": {
        "id": "cqJcCqfMF2-D"
      },
      "outputs": [],
      "source": [
        "g_opt = Adam(learning_rate=0.0001)\n",
        "d_opt = Adam(learning_rate=0.00001)\n",
        "g_loss = BinaryCrossentropy()\n",
        "d_loss = BinaryCrossentropy()\n"
      ]
    },
    {
      "cell_type": "code",
      "execution_count": null,
      "id": "cunDMvHsF3nS",
      "metadata": {
        "id": "cunDMvHsF3nS"
      },
      "outputs": [],
      "source": [
        "from keras.models import Model\n"
      ]
    },
    {
      "cell_type": "code",
      "execution_count": 137,
      "id": "gDK59TQCF5Wj",
      "metadata": {
        "id": "gDK59TQCF5Wj"
      },
      "outputs": [],
      "source": [
        "class FashionGAN(Model):\n",
        "    def __init__(self, generator, discriminator, *args, **kwargs):\n",
        "        super().__init__(*args, **kwargs)\n",
        "\n",
        "        self.generator = generator\n",
        "        self.discriminator = discriminator\n",
        "\n",
        "    def compile(self, g_opt, d_opt, g_loss, d_loss, *args, **kwargs):\n",
        "        super().compile(*args, **kwargs)\n",
        "\n",
        "        self.g_opt = g_opt\n",
        "        self.d_opt = d_opt\n",
        "        self.g_loss = g_loss\n",
        "        self.d_loss = d_loss\n",
        "\n",
        "    def train_step(self, batch):\n",
        "        real_images = batch\n",
        "        fake_images = self.generator(tf.random.uniform((128,128,1)), training=False)\n",
        "\n",
        "        with tf.GradientTape() as d_tape:\n",
        "\n",
        "            yhat_real = self.discriminator(real_images, training=True)\n",
        "            yhat_fake = self.discriminator(fake_images, training=True)\n",
        "            yhat_realfake = tf.concat([yhat_real, yhat_fake], axis=0)\n",
        "\n",
        "            y_realfake = tf.concat([tf.zeros_like(yhat_real), tf.ones_like(yhat_fake)], axis=0)\n",
        "\n",
        "            noise_real = 0.15*tf.random.uniform(tf.shape(yhat_real))\n",
        "            noise_fake = -0.15*tf.random.uniform(tf.shape(yhat_fake))\n",
        "            y_realfake += tf.concat([noise_real, noise_fake], axis=0)\n",
        "\n",
        "            total_d_loss = self.d_loss(y_realfake, yhat_realfake)\n",
        "\n",
        "        dgrad = d_tape.gradient(total_d_loss, self.discriminator.trainable_variables)\n",
        "        self.d_opt.apply_gradients(zip(dgrad, self.discriminator.trainable_variables))\n",
        "\n",
        "        with tf.GradientTape() as g_tape:\n",
        "\n",
        "            gen_images = self.generator(tf.random.uniform((128,128,1)), training=True)\n",
        "\n",
        "            predicted_labels = self.discriminator(gen_images, training=False)\n",
        "\n",
        "            total_g_loss = self.g_loss(tf.zeros_like(predicted_labels), predicted_labels)\n",
        "\n",
        "        ggrad = g_tape.gradient(total_g_loss, self.generator.trainable_variables)\n",
        "        self.g_opt.apply_gradients(zip(ggrad, self.generator.trainable_variables))\n",
        "\n",
        "        return {\"d_loss\":total_d_loss, \"g_loss\":total_g_loss}"
      ]
    },
    {
      "cell_type": "code",
      "execution_count": 138,
      "id": "O1dYhMF7GIOp",
      "metadata": {
        "id": "O1dYhMF7GIOp"
      },
      "outputs": [],
      "source": [
        "fashgan = FashionGAN(generator, discriminator)\n"
      ]
    },
    {
      "cell_type": "code",
      "execution_count": 139,
      "id": "oQtBo0P1GJ9p",
      "metadata": {
        "id": "oQtBo0P1GJ9p"
      },
      "outputs": [],
      "source": [
        "fashgan.compile(g_opt, d_opt, g_loss, d_loss)\n"
      ]
    },
    {
      "cell_type": "code",
      "execution_count": 140,
      "id": "eACs-7IPGLDA",
      "metadata": {
        "id": "eACs-7IPGLDA"
      },
      "outputs": [],
      "source": [
        "import os\n",
        "from keras.preprocessing.image import array_to_img\n",
        "from keras.callbacks import Callback\n"
      ]
    },
    {
      "cell_type": "code",
      "execution_count": 141,
      "id": "Y7u2jnliGMiY",
      "metadata": {
        "id": "Y7u2jnliGMiY"
      },
      "outputs": [],
      "source": [
        "class ModelMonitor(Callback):\n",
        "    def __init__(self, num_img=3, latent_dim=128):\n",
        "        self.num_img = num_img\n",
        "        self.latent_dim = latent_dim\n",
        "\n",
        "    def on_epoch_end(self, epoch, logs=None):\n",
        "        random_latent_vectors = tf.random.uniform((self.num_img, self.latent_dim,1))\n",
        "        generated_images = self.model.generator(random_latent_vectors)\n",
        "        generated_images *= 255\n",
        "        generated_images.numpy()\n",
        "        for i in range(self.num_img):\n",
        "            img = array_to_img(generated_images[i])\n",
        "            img.save(os.path.join('images', f'generated_img_{epoch}_{i}.png'))\n"
      ]
    },
    {
      "cell_type": "code",
      "execution_count": 142,
      "id": "nQtrUn3LGPq3",
      "metadata": {
        "colab": {
          "base_uri": "https://localhost:8080/",
          "height": 356
        },
        "id": "nQtrUn3LGPq3",
        "outputId": "6c2f6e87-728d-4d85-b7e4-d0693e4aa6f4"
      },
      "outputs": [
        {
          "output_type": "stream",
          "name": "stdout",
          "text": [
            "Epoch 1/20\n"
          ]
        },
        {
          "output_type": "error",
          "ename": "KeyboardInterrupt",
          "evalue": "ignored",
          "traceback": [
            "\u001b[0;31m---------------------------------------------------------------------------\u001b[0m",
            "\u001b[0;31mKeyboardInterrupt\u001b[0m                         Traceback (most recent call last)",
            "\u001b[0;32m<ipython-input-142-1f77a7e5ec86>\u001b[0m in \u001b[0;36m<cell line: 1>\u001b[0;34m()\u001b[0m\n\u001b[0;32m----> 1\u001b[0;31m \u001b[0mhist\u001b[0m \u001b[0;34m=\u001b[0m \u001b[0mfashgan\u001b[0m\u001b[0;34m.\u001b[0m\u001b[0mfit\u001b[0m\u001b[0;34m(\u001b[0m\u001b[0mds\u001b[0m\u001b[0;34m,\u001b[0m \u001b[0mepochs\u001b[0m\u001b[0;34m=\u001b[0m\u001b[0;36m20\u001b[0m\u001b[0;34m,\u001b[0m \u001b[0mcallbacks\u001b[0m\u001b[0;34m=\u001b[0m\u001b[0;34m[\u001b[0m\u001b[0mModelMonitor\u001b[0m\u001b[0;34m(\u001b[0m\u001b[0;34m)\u001b[0m\u001b[0;34m]\u001b[0m\u001b[0;34m)\u001b[0m\u001b[0;34m\u001b[0m\u001b[0;34m\u001b[0m\u001b[0m\n\u001b[0m",
            "\u001b[0;32m/usr/local/lib/python3.10/dist-packages/keras/src/utils/traceback_utils.py\u001b[0m in \u001b[0;36merror_handler\u001b[0;34m(*args, **kwargs)\u001b[0m\n\u001b[1;32m     63\u001b[0m         \u001b[0mfiltered_tb\u001b[0m \u001b[0;34m=\u001b[0m \u001b[0;32mNone\u001b[0m\u001b[0;34m\u001b[0m\u001b[0;34m\u001b[0m\u001b[0m\n\u001b[1;32m     64\u001b[0m         \u001b[0;32mtry\u001b[0m\u001b[0;34m:\u001b[0m\u001b[0;34m\u001b[0m\u001b[0;34m\u001b[0m\u001b[0m\n\u001b[0;32m---> 65\u001b[0;31m             \u001b[0;32mreturn\u001b[0m \u001b[0mfn\u001b[0m\u001b[0;34m(\u001b[0m\u001b[0;34m*\u001b[0m\u001b[0margs\u001b[0m\u001b[0;34m,\u001b[0m \u001b[0;34m**\u001b[0m\u001b[0mkwargs\u001b[0m\u001b[0;34m)\u001b[0m\u001b[0;34m\u001b[0m\u001b[0;34m\u001b[0m\u001b[0m\n\u001b[0m\u001b[1;32m     66\u001b[0m         \u001b[0;32mexcept\u001b[0m \u001b[0mException\u001b[0m \u001b[0;32mas\u001b[0m \u001b[0me\u001b[0m\u001b[0;34m:\u001b[0m\u001b[0;34m\u001b[0m\u001b[0;34m\u001b[0m\u001b[0m\n\u001b[1;32m     67\u001b[0m             \u001b[0mfiltered_tb\u001b[0m \u001b[0;34m=\u001b[0m \u001b[0m_process_traceback_frames\u001b[0m\u001b[0;34m(\u001b[0m\u001b[0me\u001b[0m\u001b[0;34m.\u001b[0m\u001b[0m__traceback__\u001b[0m\u001b[0;34m)\u001b[0m\u001b[0;34m\u001b[0m\u001b[0;34m\u001b[0m\u001b[0m\n",
            "\u001b[0;32m/usr/local/lib/python3.10/dist-packages/keras/src/engine/training.py\u001b[0m in \u001b[0;36mfit\u001b[0;34m(self, x, y, batch_size, epochs, verbose, callbacks, validation_split, validation_data, shuffle, class_weight, sample_weight, initial_epoch, steps_per_epoch, validation_steps, validation_batch_size, validation_freq, max_queue_size, workers, use_multiprocessing)\u001b[0m\n\u001b[1;32m   1805\u001b[0m                         ):\n\u001b[1;32m   1806\u001b[0m                             \u001b[0mcallbacks\u001b[0m\u001b[0;34m.\u001b[0m\u001b[0mon_train_batch_begin\u001b[0m\u001b[0;34m(\u001b[0m\u001b[0mstep\u001b[0m\u001b[0;34m)\u001b[0m\u001b[0;34m\u001b[0m\u001b[0;34m\u001b[0m\u001b[0m\n\u001b[0;32m-> 1807\u001b[0;31m                             \u001b[0mtmp_logs\u001b[0m \u001b[0;34m=\u001b[0m \u001b[0mself\u001b[0m\u001b[0;34m.\u001b[0m\u001b[0mtrain_function\u001b[0m\u001b[0;34m(\u001b[0m\u001b[0miterator\u001b[0m\u001b[0;34m)\u001b[0m\u001b[0;34m\u001b[0m\u001b[0;34m\u001b[0m\u001b[0m\n\u001b[0m\u001b[1;32m   1808\u001b[0m                             \u001b[0;32mif\u001b[0m \u001b[0mdata_handler\u001b[0m\u001b[0;34m.\u001b[0m\u001b[0mshould_sync\u001b[0m\u001b[0;34m:\u001b[0m\u001b[0;34m\u001b[0m\u001b[0;34m\u001b[0m\u001b[0m\n\u001b[1;32m   1809\u001b[0m                                 \u001b[0mcontext\u001b[0m\u001b[0;34m.\u001b[0m\u001b[0masync_wait\u001b[0m\u001b[0;34m(\u001b[0m\u001b[0;34m)\u001b[0m\u001b[0;34m\u001b[0m\u001b[0;34m\u001b[0m\u001b[0m\n",
            "\u001b[0;32m/usr/local/lib/python3.10/dist-packages/tensorflow/python/util/traceback_utils.py\u001b[0m in \u001b[0;36merror_handler\u001b[0;34m(*args, **kwargs)\u001b[0m\n\u001b[1;32m    148\u001b[0m     \u001b[0mfiltered_tb\u001b[0m \u001b[0;34m=\u001b[0m \u001b[0;32mNone\u001b[0m\u001b[0;34m\u001b[0m\u001b[0;34m\u001b[0m\u001b[0m\n\u001b[1;32m    149\u001b[0m     \u001b[0;32mtry\u001b[0m\u001b[0;34m:\u001b[0m\u001b[0;34m\u001b[0m\u001b[0;34m\u001b[0m\u001b[0m\n\u001b[0;32m--> 150\u001b[0;31m       \u001b[0;32mreturn\u001b[0m \u001b[0mfn\u001b[0m\u001b[0;34m(\u001b[0m\u001b[0;34m*\u001b[0m\u001b[0margs\u001b[0m\u001b[0;34m,\u001b[0m \u001b[0;34m**\u001b[0m\u001b[0mkwargs\u001b[0m\u001b[0;34m)\u001b[0m\u001b[0;34m\u001b[0m\u001b[0;34m\u001b[0m\u001b[0m\n\u001b[0m\u001b[1;32m    151\u001b[0m     \u001b[0;32mexcept\u001b[0m \u001b[0mException\u001b[0m \u001b[0;32mas\u001b[0m \u001b[0me\u001b[0m\u001b[0;34m:\u001b[0m\u001b[0;34m\u001b[0m\u001b[0;34m\u001b[0m\u001b[0m\n\u001b[1;32m    152\u001b[0m       \u001b[0mfiltered_tb\u001b[0m \u001b[0;34m=\u001b[0m \u001b[0m_process_traceback_frames\u001b[0m\u001b[0;34m(\u001b[0m\u001b[0me\u001b[0m\u001b[0;34m.\u001b[0m\u001b[0m__traceback__\u001b[0m\u001b[0;34m)\u001b[0m\u001b[0;34m\u001b[0m\u001b[0;34m\u001b[0m\u001b[0m\n",
            "\u001b[0;32m/usr/local/lib/python3.10/dist-packages/tensorflow/python/eager/polymorphic_function/polymorphic_function.py\u001b[0m in \u001b[0;36m__call__\u001b[0;34m(self, *args, **kwds)\u001b[0m\n\u001b[1;32m    830\u001b[0m \u001b[0;34m\u001b[0m\u001b[0m\n\u001b[1;32m    831\u001b[0m       \u001b[0;32mwith\u001b[0m \u001b[0mOptionalXlaContext\u001b[0m\u001b[0;34m(\u001b[0m\u001b[0mself\u001b[0m\u001b[0;34m.\u001b[0m\u001b[0m_jit_compile\u001b[0m\u001b[0;34m)\u001b[0m\u001b[0;34m:\u001b[0m\u001b[0;34m\u001b[0m\u001b[0;34m\u001b[0m\u001b[0m\n\u001b[0;32m--> 832\u001b[0;31m         \u001b[0mresult\u001b[0m \u001b[0;34m=\u001b[0m \u001b[0mself\u001b[0m\u001b[0;34m.\u001b[0m\u001b[0m_call\u001b[0m\u001b[0;34m(\u001b[0m\u001b[0;34m*\u001b[0m\u001b[0margs\u001b[0m\u001b[0;34m,\u001b[0m \u001b[0;34m**\u001b[0m\u001b[0mkwds\u001b[0m\u001b[0;34m)\u001b[0m\u001b[0;34m\u001b[0m\u001b[0;34m\u001b[0m\u001b[0m\n\u001b[0m\u001b[1;32m    833\u001b[0m \u001b[0;34m\u001b[0m\u001b[0m\n\u001b[1;32m    834\u001b[0m       \u001b[0mnew_tracing_count\u001b[0m \u001b[0;34m=\u001b[0m \u001b[0mself\u001b[0m\u001b[0;34m.\u001b[0m\u001b[0mexperimental_get_tracing_count\u001b[0m\u001b[0;34m(\u001b[0m\u001b[0;34m)\u001b[0m\u001b[0;34m\u001b[0m\u001b[0;34m\u001b[0m\u001b[0m\n",
            "\u001b[0;32m/usr/local/lib/python3.10/dist-packages/tensorflow/python/eager/polymorphic_function/polymorphic_function.py\u001b[0m in \u001b[0;36m_call\u001b[0;34m(self, *args, **kwds)\u001b[0m\n\u001b[1;32m    916\u001b[0m           )\n\u001b[1;32m    917\u001b[0m       )\n\u001b[0;32m--> 918\u001b[0;31m       return self._concrete_variable_creation_fn._call_flat(  # pylint: disable=protected-access\n\u001b[0m\u001b[1;32m    919\u001b[0m           \u001b[0mfiltered_flat_args\u001b[0m\u001b[0;34m,\u001b[0m\u001b[0;34m\u001b[0m\u001b[0;34m\u001b[0m\u001b[0m\n\u001b[1;32m    920\u001b[0m           \u001b[0mself\u001b[0m\u001b[0;34m.\u001b[0m\u001b[0m_concrete_variable_creation_fn\u001b[0m\u001b[0;34m.\u001b[0m\u001b[0mcaptured_inputs\u001b[0m\u001b[0;34m,\u001b[0m\u001b[0;34m\u001b[0m\u001b[0;34m\u001b[0m\u001b[0m\n",
            "\u001b[0;32m/usr/local/lib/python3.10/dist-packages/tensorflow/python/eager/polymorphic_function/concrete_function.py\u001b[0m in \u001b[0;36m_call_flat\u001b[0;34m(self, tensor_inputs, captured_inputs)\u001b[0m\n\u001b[1;32m   1321\u001b[0m         and executing_eagerly):\n\u001b[1;32m   1322\u001b[0m       \u001b[0;31m# No tape is watching; skip to running the function.\u001b[0m\u001b[0;34m\u001b[0m\u001b[0;34m\u001b[0m\u001b[0m\n\u001b[0;32m-> 1323\u001b[0;31m       \u001b[0;32mreturn\u001b[0m \u001b[0mself\u001b[0m\u001b[0;34m.\u001b[0m\u001b[0m_inference_function\u001b[0m\u001b[0;34m.\u001b[0m\u001b[0mcall_preflattened\u001b[0m\u001b[0;34m(\u001b[0m\u001b[0margs\u001b[0m\u001b[0;34m)\u001b[0m\u001b[0;34m\u001b[0m\u001b[0;34m\u001b[0m\u001b[0m\n\u001b[0m\u001b[1;32m   1324\u001b[0m     forward_backward = self._select_forward_and_backward_functions(\n\u001b[1;32m   1325\u001b[0m         \u001b[0margs\u001b[0m\u001b[0;34m,\u001b[0m\u001b[0;34m\u001b[0m\u001b[0;34m\u001b[0m\u001b[0m\n",
            "\u001b[0;32m/usr/local/lib/python3.10/dist-packages/tensorflow/python/eager/polymorphic_function/atomic_function.py\u001b[0m in \u001b[0;36mcall_preflattened\u001b[0;34m(self, args)\u001b[0m\n\u001b[1;32m    214\u001b[0m   \u001b[0;32mdef\u001b[0m \u001b[0mcall_preflattened\u001b[0m\u001b[0;34m(\u001b[0m\u001b[0mself\u001b[0m\u001b[0;34m,\u001b[0m \u001b[0margs\u001b[0m\u001b[0;34m:\u001b[0m \u001b[0mSequence\u001b[0m\u001b[0;34m[\u001b[0m\u001b[0mcore\u001b[0m\u001b[0;34m.\u001b[0m\u001b[0mTensor\u001b[0m\u001b[0;34m]\u001b[0m\u001b[0;34m)\u001b[0m \u001b[0;34m->\u001b[0m \u001b[0mAny\u001b[0m\u001b[0;34m:\u001b[0m\u001b[0;34m\u001b[0m\u001b[0;34m\u001b[0m\u001b[0m\n\u001b[1;32m    215\u001b[0m     \u001b[0;34m\"\"\"Calls with flattened tensor inputs and returns the structured output.\"\"\"\u001b[0m\u001b[0;34m\u001b[0m\u001b[0;34m\u001b[0m\u001b[0m\n\u001b[0;32m--> 216\u001b[0;31m     \u001b[0mflat_outputs\u001b[0m \u001b[0;34m=\u001b[0m \u001b[0mself\u001b[0m\u001b[0;34m.\u001b[0m\u001b[0mcall_flat\u001b[0m\u001b[0;34m(\u001b[0m\u001b[0;34m*\u001b[0m\u001b[0margs\u001b[0m\u001b[0;34m)\u001b[0m\u001b[0;34m\u001b[0m\u001b[0;34m\u001b[0m\u001b[0m\n\u001b[0m\u001b[1;32m    217\u001b[0m     \u001b[0;32mreturn\u001b[0m \u001b[0mself\u001b[0m\u001b[0;34m.\u001b[0m\u001b[0mfunction_type\u001b[0m\u001b[0;34m.\u001b[0m\u001b[0mpack_output\u001b[0m\u001b[0;34m(\u001b[0m\u001b[0mflat_outputs\u001b[0m\u001b[0;34m)\u001b[0m\u001b[0;34m\u001b[0m\u001b[0;34m\u001b[0m\u001b[0m\n\u001b[1;32m    218\u001b[0m \u001b[0;34m\u001b[0m\u001b[0m\n",
            "\u001b[0;32m/usr/local/lib/python3.10/dist-packages/tensorflow/python/eager/polymorphic_function/atomic_function.py\u001b[0m in \u001b[0;36mcall_flat\u001b[0;34m(self, *args)\u001b[0m\n\u001b[1;32m    249\u001b[0m         \u001b[0;32mwith\u001b[0m \u001b[0mrecord\u001b[0m\u001b[0;34m.\u001b[0m\u001b[0mstop_recording\u001b[0m\u001b[0;34m(\u001b[0m\u001b[0;34m)\u001b[0m\u001b[0;34m:\u001b[0m\u001b[0;34m\u001b[0m\u001b[0;34m\u001b[0m\u001b[0m\n\u001b[1;32m    250\u001b[0m           \u001b[0;32mif\u001b[0m \u001b[0mself\u001b[0m\u001b[0;34m.\u001b[0m\u001b[0m_bound_context\u001b[0m\u001b[0;34m.\u001b[0m\u001b[0mexecuting_eagerly\u001b[0m\u001b[0;34m(\u001b[0m\u001b[0;34m)\u001b[0m\u001b[0;34m:\u001b[0m\u001b[0;34m\u001b[0m\u001b[0;34m\u001b[0m\u001b[0m\n\u001b[0;32m--> 251\u001b[0;31m             outputs = self._bound_context.call_function(\n\u001b[0m\u001b[1;32m    252\u001b[0m                 \u001b[0mself\u001b[0m\u001b[0;34m.\u001b[0m\u001b[0mname\u001b[0m\u001b[0;34m,\u001b[0m\u001b[0;34m\u001b[0m\u001b[0;34m\u001b[0m\u001b[0m\n\u001b[1;32m    253\u001b[0m                 \u001b[0mlist\u001b[0m\u001b[0;34m(\u001b[0m\u001b[0margs\u001b[0m\u001b[0;34m)\u001b[0m\u001b[0;34m,\u001b[0m\u001b[0;34m\u001b[0m\u001b[0;34m\u001b[0m\u001b[0m\n",
            "\u001b[0;32m/usr/local/lib/python3.10/dist-packages/tensorflow/python/eager/context.py\u001b[0m in \u001b[0;36mcall_function\u001b[0;34m(self, name, tensor_inputs, num_outputs)\u001b[0m\n\u001b[1;32m   1484\u001b[0m     \u001b[0mcancellation_context\u001b[0m \u001b[0;34m=\u001b[0m \u001b[0mcancellation\u001b[0m\u001b[0;34m.\u001b[0m\u001b[0mcontext\u001b[0m\u001b[0;34m(\u001b[0m\u001b[0;34m)\u001b[0m\u001b[0;34m\u001b[0m\u001b[0;34m\u001b[0m\u001b[0m\n\u001b[1;32m   1485\u001b[0m     \u001b[0;32mif\u001b[0m \u001b[0mcancellation_context\u001b[0m \u001b[0;32mis\u001b[0m \u001b[0;32mNone\u001b[0m\u001b[0;34m:\u001b[0m\u001b[0;34m\u001b[0m\u001b[0;34m\u001b[0m\u001b[0m\n\u001b[0;32m-> 1486\u001b[0;31m       outputs = execute.execute(\n\u001b[0m\u001b[1;32m   1487\u001b[0m           \u001b[0mname\u001b[0m\u001b[0;34m.\u001b[0m\u001b[0mdecode\u001b[0m\u001b[0;34m(\u001b[0m\u001b[0;34m\"utf-8\"\u001b[0m\u001b[0;34m)\u001b[0m\u001b[0;34m,\u001b[0m\u001b[0;34m\u001b[0m\u001b[0;34m\u001b[0m\u001b[0m\n\u001b[1;32m   1488\u001b[0m           \u001b[0mnum_outputs\u001b[0m\u001b[0;34m=\u001b[0m\u001b[0mnum_outputs\u001b[0m\u001b[0;34m,\u001b[0m\u001b[0;34m\u001b[0m\u001b[0;34m\u001b[0m\u001b[0m\n",
            "\u001b[0;32m/usr/local/lib/python3.10/dist-packages/tensorflow/python/eager/execute.py\u001b[0m in \u001b[0;36mquick_execute\u001b[0;34m(op_name, num_outputs, inputs, attrs, ctx, name)\u001b[0m\n\u001b[1;32m     51\u001b[0m   \u001b[0;32mtry\u001b[0m\u001b[0;34m:\u001b[0m\u001b[0;34m\u001b[0m\u001b[0;34m\u001b[0m\u001b[0m\n\u001b[1;32m     52\u001b[0m     \u001b[0mctx\u001b[0m\u001b[0;34m.\u001b[0m\u001b[0mensure_initialized\u001b[0m\u001b[0;34m(\u001b[0m\u001b[0;34m)\u001b[0m\u001b[0;34m\u001b[0m\u001b[0;34m\u001b[0m\u001b[0m\n\u001b[0;32m---> 53\u001b[0;31m     tensors = pywrap_tfe.TFE_Py_Execute(ctx._handle, device_name, op_name,\n\u001b[0m\u001b[1;32m     54\u001b[0m                                         inputs, attrs, num_outputs)\n\u001b[1;32m     55\u001b[0m   \u001b[0;32mexcept\u001b[0m \u001b[0mcore\u001b[0m\u001b[0;34m.\u001b[0m\u001b[0m_NotOkStatusException\u001b[0m \u001b[0;32mas\u001b[0m \u001b[0me\u001b[0m\u001b[0;34m:\u001b[0m\u001b[0;34m\u001b[0m\u001b[0;34m\u001b[0m\u001b[0m\n",
            "\u001b[0;31mKeyboardInterrupt\u001b[0m: "
          ]
        }
      ],
      "source": [
        "hist = fashgan.fit(ds, epochs=20, callbacks=[ModelMonitor()])"
      ]
    },
    {
      "cell_type": "code",
      "source": [
        "plt.suptitle('Loss')\n",
        "plt.plot(hist.history['d_loss'], label='d_loss')\n",
        "plt.plot(hist.history['g_loss'], label='g_loss')\n",
        "plt.legend()\n",
        "plt.show()"
      ],
      "metadata": {
        "id": "rrrZKcCdVKue"
      },
      "id": "rrrZKcCdVKue",
      "execution_count": null,
      "outputs": []
    },
    {
      "cell_type": "code",
      "source": [
        "from google.colab import drive\n",
        "drive.mount('/content/drive')"
      ],
      "metadata": {
        "colab": {
          "base_uri": "https://localhost:8080/"
        },
        "id": "qSfamBB6TowX",
        "outputId": "7655b9d7-15c7-45b3-f607-5ea5bf9fa720"
      },
      "id": "qSfamBB6TowX",
      "execution_count": null,
      "outputs": [
        {
          "output_type": "stream",
          "name": "stdout",
          "text": [
            "Mounted at /content/drive\n"
          ]
        }
      ]
    },
    {
      "cell_type": "code",
      "source": [
        "generator.load_weights(os.path.join('archive', 'generatormodel.h5'))"
      ],
      "metadata": {
        "id": "GvUYD3KGVSbJ"
      },
      "id": "GvUYD3KGVSbJ",
      "execution_count": null,
      "outputs": []
    },
    {
      "cell_type": "code",
      "execution_count": 143,
      "id": "FapDtVQ-GRQ4",
      "metadata": {
        "id": "FapDtVQ-GRQ4",
        "colab": {
          "base_uri": "https://localhost:8080/"
        },
        "outputId": "1e5d18e6-ed26-4216-b1d2-914a6f510122"
      },
      "outputs": [
        {
          "output_type": "stream",
          "name": "stdout",
          "text": [
            "1/1 [==============================] - 1s 545ms/step\n"
          ]
        }
      ],
      "source": [
        "imgs = generator.predict(tf.random.normal((16, 128, 1)))\n"
      ]
    },
    {
      "cell_type": "code",
      "source": [
        "fig, ax = plt.subplots(ncols=4, nrows=4, figsize=(10,10))\n",
        "for r in range(4):\n",
        "    for c in range(4):\n",
        "        ax[r][c].imshow(imgs[(r+1)*(c+1)-1])"
      ],
      "metadata": {
        "id": "KrxOc2aeO30P",
        "colab": {
          "base_uri": "https://localhost:8080/",
          "height": 833
        },
        "outputId": "69359184-a7c4-4bff-c089-1e6530067f7c"
      },
      "id": "KrxOc2aeO30P",
      "execution_count": 144,
      "outputs": [
        {
          "output_type": "display_data",
          "data": {
            "text/plain": [
              "<Figure size 1000x1000 with 16 Axes>"
            ],
            "image/png": "[encoded data removed]"
          },
          "metadata": {}
        }
      ]
    },
    {
      "cell_type": "code",
      "source": [
        "generator.save('generator.h5')\n",
        "discriminator.save('discriminator.h5')"
      ],
      "metadata": {
        "id": "P6JWo_FSVCji"
      },
      "id": "P6JWo_FSVCji",
      "execution_count": null,
      "outputs": []
    }
  ],
  "metadata": {
    "colab": {
      "provenance": []
    },
    "kernelspec": {
      "display_name": "Python 3 (ipykernel)",
      "language": "python",
      "name": "python3"
    },
    "language_info": {
      "codemirror_mode": {
        "name": "ipython",
        "version": 3
      },
      "file_extension": ".py",
      "mimetype": "text/x-python",
      "name": "python",
      "nbconvert_exporter": "python",
      "pygments_lexer": "ipython3",
      "version": "3.9.13"
    }
  },
  "nbformat": 4,
  "nbformat_minor": 5
}